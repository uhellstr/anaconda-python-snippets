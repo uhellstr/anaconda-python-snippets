{
 "cells": [
  {
   "cell_type": "markdown",
   "metadata": {},
   "source": [
    "Simple class example with Python"
   ]
  },
  {
   "cell_type": "code",
   "execution_count": 13,
   "metadata": {},
   "outputs": [],
   "source": [
    "# class for a dog object\n",
    "class Dog:\n",
    "    \n",
    "    #initialisation method with internal data\n",
    "    def __init__(self, petname,temp):\n",
    "        self.name = petname\n",
    "        self.tempature = temp\n",
    "        \n",
    "    # get status\n",
    "    def status(self):\n",
    "        print(\"dog name is \", self.name)\n",
    "        print(\"dog tempature is \", self.tempature)\n",
    "        pass\n",
    "        \n",
    "    # set tempature\n",
    "    def setTempature(self,temp):\n",
    "        self.tempature = temp\n",
    "        pass\n",
    "        \n",
    "    # dogs can bark\n",
    "    def bark(self):\n",
    "        print(\"woof\")\n",
    "        pass"
   ]
  },
  {
   "cell_type": "code",
   "execution_count": 14,
   "metadata": {},
   "outputs": [
    {
     "name": "stdout",
     "output_type": "stream",
     "text": [
      "dog name is  Lassie\n",
      "dog tempature is  37\n"
     ]
    }
   ],
   "source": [
    "lassie = Dog(\"Lassie\",37)\n",
    "lassie.status()"
   ]
  },
  {
   "cell_type": "code",
   "execution_count": 15,
   "metadata": {},
   "outputs": [],
   "source": [
    "lassie.setTempature(40)"
   ]
  },
  {
   "cell_type": "code",
   "execution_count": 16,
   "metadata": {},
   "outputs": [
    {
     "name": "stdout",
     "output_type": "stream",
     "text": [
      "dog name is  Lassie\n",
      "dog tempature is  40\n"
     ]
    }
   ],
   "source": [
    "lassie.status()"
   ]
  }
 ],
 "metadata": {
  "kernelspec": {
   "display_name": "Python 3",
   "language": "python",
   "name": "python3"
  },
  "language_info": {
   "codemirror_mode": {
    "name": "ipython",
    "version": 3
   },
   "file_extension": ".py",
   "mimetype": "text/x-python",
   "name": "python",
   "nbconvert_exporter": "python",
   "pygments_lexer": "ipython3",
   "version": "3.6.1"
  }
 },
 "nbformat": 4,
 "nbformat_minor": 2
}

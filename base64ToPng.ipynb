{
 "cells": [
  {
   "cell_type": "markdown",
   "metadata": {},
   "source": [
    "## Simple examle of base54 to blob conversion\n",
    "\n",
    "In this example we have a base64() encoded image that we want to convert back to png format again.\n"
   ]
  },
  {
   "cell_type": "code",
   "execution_count": 13,
   "metadata": {},
   "outputs": [
    {
     "data": {
      "image/png": "[encoded data removed]",
      "text/plain": [
       "<IPython.core.display.Image object>"
      ]
     },
     "metadata": {},
     "output_type": "display_data"
    }
   ],
   "source": [
    "data = b'''iVBORw0KGgoAAAANSUhEUgAAACEAAAAUCAMAAAA0jaRDAAAAw1BMVEUetToitj0j\n",
    "tz8muEE3vVA6vlNcyXBiy3WE15SL2Zqgq4Shp4CiqIGiq4OjqoSjq4SotI+ptI6s\n",
    "yKCuyaCvyqOwyqO05r276cTHGSfKFSbLFCXLFCbMEiXOESbOEifOEyjRIjXUMELX\n",
    "Pk/YQ1TZSFjZ897e9OLhbXridIDi8eLi9ebkfYnqmKHq+O3roKjsoqrur7bx+vP0\n",
    "ys70/Pb1z9T3/Pj4/fr5/fv77O77/fv7/vz88PH++vv+/Pz+//7//f3///9FUjzB\n",
    "AAAAzklEQVQoz4WSxw7CQAxETQ29d1hCL4HQW6jv/7+KAwJRFu27eiR7ZixwGtlK\n",
    "jz06gfSBTVcr6G6Avvgia7jNWj/z1uwG64hPRIIl4DBsfsybwwNQCsqD8ABYdZRS\n",
    "vcl80lNKdVbAICwv/NEtXKbtBSxh0Z5eYBv1yzuhMnCGbCUDZ6Ackm8sByDWSAI4\n",
    "lmgIuABjADcgWsWRJ8d/il087eGlErt/CvdarwHV+lW/xXLY54seXiG31136dAto\n",
    "3b4lhjYxU+qm5sztmz/I+IV3GzlJ3gdQlP8AAAAASUVORK5CYII='''\n",
    "\n",
    "import base64\n",
    "from PIL import Image\n",
    "from io import BytesIO\n",
    "\n",
    "\n",
    "im = Image.open(BytesIO(base64.b64decode(data)))\n",
    "im.save('flag.png', 'PNG')\n",
    "\n",
    "from IPython.display import Image\n",
    "pil_img = Image(filename='flag.png')\n",
    "display(pil_img)\n"
   ]
  },
  {
   "cell_type": "code",
   "execution_count": null,
   "metadata": {},
   "outputs": [],
   "source": []
  }
 ],
 "metadata": {
  "kernelspec": {
   "display_name": "Python 3 (ipykernel)",
   "language": "python",
   "name": "python3"
  },
  "language_info": {
   "codemirror_mode": {
    "name": "ipython",
    "version": 3
   },
   "file_extension": ".py",
   "mimetype": "text/x-python",
   "name": "python",
   "nbconvert_exporter": "python",
   "pygments_lexer": "ipython3",
   "version": "3.8.12"
  }
 },
 "nbformat": 4,
 "nbformat_minor": 2
}
